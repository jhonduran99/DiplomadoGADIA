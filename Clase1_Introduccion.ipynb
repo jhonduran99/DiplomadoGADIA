{
  "nbformat": 4,
  "nbformat_minor": 0,
  "metadata": {
    "colab": {
      "provenance": []
    },
    "kernelspec": {
      "name": "python3",
      "display_name": "Python 3"
    },
    "language_info": {
      "name": "python"
    }
  },
  "cells": [
    {
      "cell_type": "markdown",
      "source": [
        "**INTRODUCCIÓN A PYTHON**\n",
        "\n",
        "DIPLOMADO EN GOBIERNO Y ANALITICA DE DATOS\n",
        "\n",
        "FUNDACIÓN UNIVERSITARIA CAFAM\n",
        "\n",
        "DOCENTE: NICOLAS MOJICA GOMEZ\n",
        "\n",
        "ESTUDIANTE:JHON FELIPE DURAN LOPEZ\n",
        "\n",
        "\n",
        "\n",
        "---\n",
        "\n"
      ],
      "metadata": {
        "id": "7E4zQsZQqHx2"
      }
    },
    {
      "cell_type": "markdown",
      "source": [
        "## 1. Comentario en los codigos\n",
        "\n",
        "Para documentar codigos en python existen diferentes manera de hacer comentarios, esto nos permite documentar nuestras secuencias de comandos para su analisis o posterior documentación."
      ],
      "metadata": {
        "id": "ryjz8c9grp48"
      }
    },
    {
      "cell_type": "code",
      "execution_count": null,
      "metadata": {
        "colab": {
          "base_uri": "https://localhost:8080/"
        },
        "id": "Pk-6BVJUoruY",
        "outputId": "080faafd-1535-4e2f-d8dd-45db4069a2d4"
      },
      "outputs": [
        {
          "output_type": "stream",
          "name": "stdout",
          "text": [
            "hola Mundo\n"
          ]
        }
      ],
      "source": [
        "# Este comentario es de solo una linea\n",
        "#Python es un programa sensible a las mayusculas y las minusculas\n",
        "print(\"hola Mundo\")"
      ]
    },
    {
      "cell_type": "code",
      "source": [
        "'''\n",
        "Este es un comentario de multipes lineas puede extenderse en varias lineas\n",
        "'''\n",
        "print(\"Hola Mundo\")"
      ],
      "metadata": {
        "colab": {
          "base_uri": "https://localhost:8080/"
        },
        "id": "R_lwtKglvjV9",
        "outputId": "34d700ad-037a-4aca-9063-7679d10a7d08"
      },
      "execution_count": null,
      "outputs": [
        {
          "output_type": "stream",
          "name": "stdout",
          "text": [
            "Hola Mundo\n"
          ]
        }
      ]
    },
    {
      "cell_type": "markdown",
      "source": [
        "## 2. Varibles\n",
        "\n",
        "Una variablees un elento de un lenguaje de programación que tiene asignado un valor determinado"
      ],
      "metadata": {
        "id": "wYF7fmAOwSu7"
      }
    },
    {
      "cell_type": "code",
      "source": [
        "# Para crear una variable en python se le debe proporcionar un nombre y se le debe asignar un valor usando un igual\n",
        "var=\"hOLA MUNDO\"\n",
        "print(var)"
      ],
      "metadata": {
        "colab": {
          "base_uri": "https://localhost:8080/"
        },
        "id": "s6nSbWkJwRgT",
        "outputId": "747a9cc5-7dc5-4060-f3cd-52956f375be9"
      },
      "execution_count": null,
      "outputs": [
        {
          "output_type": "stream",
          "name": "stdout",
          "text": [
            "hOLA MUNDO\n"
          ]
        }
      ]
    },
    {
      "cell_type": "code",
      "source": [
        "## Las variables pueden cambiar a lo largo del programa python\n",
        "var=\"Adios mundo\"\n",
        "print(var)"
      ],
      "metadata": {
        "colab": {
          "base_uri": "https://localhost:8080/"
        },
        "id": "VprxQfhHxscu",
        "outputId": "4f941bec-a1b4-49ed-ce56-0ce72434a71b"
      },
      "execution_count": null,
      "outputs": [
        {
          "output_type": "stream",
          "name": "stdout",
          "text": [
            "Adios mundo\n"
          ]
        }
      ]
    },
    {
      "cell_type": "code",
      "source": [
        "# Las variables en python son sensibles a las mayusculas y las minusculas\n"
      ],
      "metadata": {
        "id": "6Fb-Wkt1yKGy"
      },
      "execution_count": null,
      "outputs": []
    },
    {
      "cell_type": "markdown",
      "source": [
        "## 3. Tipos de datos\n",
        "\n"
      ],
      "metadata": {
        "id": "PAvdQP-J4pwn"
      }
    },
    {
      "cell_type": "code",
      "source": [
        "#Tipo de datos numericos\n",
        "entero=42\n",
        "#En la mayor parte de lenjuaje de programación los enteros son representados con \"int\""
      ],
      "metadata": {
        "id": "ZiiV6rZ55QIr"
      },
      "execution_count": null,
      "outputs": []
    },
    {
      "cell_type": "code",
      "source": [
        "# Tipo de dato flotante\n",
        "flotante=3.14159"
      ],
      "metadata": {
        "id": "n7ABg0Sr5rTx"
      },
      "execution_count": null,
      "outputs": []
    },
    {
      "cell_type": "code",
      "source": [
        "# conversion de los tipos de datos\n",
        "# Convertir un flotante a un numero entero\n",
        "entero=int(3.14)\n",
        "print(entero)"
      ],
      "metadata": {
        "colab": {
          "base_uri": "https://localhost:8080/"
        },
        "id": "8ASPoPLN5-X3",
        "outputId": "e3683e10-b7ed-4f34-b50d-3873ab2a4885"
      },
      "execution_count": null,
      "outputs": [
        {
          "output_type": "stream",
          "name": "stdout",
          "text": [
            "3\n"
          ]
        }
      ]
    },
    {
      "cell_type": "code",
      "source": [
        "# Convertir entero a flotante\n",
        "flotante=float(5)\n",
        "print(flotante)"
      ],
      "metadata": {
        "colab": {
          "base_uri": "https://localhost:8080/"
        },
        "id": "lT5Mev137CVA",
        "outputId": "3317819a-2a05-4ba5-8240-91575be06a7a"
      },
      "execution_count": null,
      "outputs": [
        {
          "output_type": "stream",
          "name": "stdout",
          "text": [
            "5.0\n"
          ]
        }
      ]
    },
    {
      "cell_type": "markdown",
      "source": [
        "## 4. Operadores aritmeticos\n",
        "\n",
        "Los operadores aritmeticos se utilizan para realizar operaciones comunes como la adición, sustracción y multiplicación entre otros"
      ],
      "metadata": {
        "id": "YgGrG0V17maO"
      }
    },
    {
      "cell_type": "code",
      "source": [
        "#suma\n",
        "a=10\n",
        "b=5\n",
        "print(a+b)"
      ],
      "metadata": {
        "colab": {
          "base_uri": "https://localhost:8080/"
        },
        "id": "YMi96Fgp7W1v",
        "outputId": "12da6372-d08b-413f-fa2c-5dcf87cf73b2"
      },
      "execution_count": null,
      "outputs": [
        {
          "output_type": "stream",
          "name": "stdout",
          "text": [
            "15\n"
          ]
        }
      ]
    },
    {
      "cell_type": "code",
      "source": [
        "#Resta\n",
        "c=a-b\n",
        "print(c)"
      ],
      "metadata": {
        "colab": {
          "base_uri": "https://localhost:8080/"
        },
        "id": "Pa_os5gH8JO1",
        "outputId": "e350144c-9158-4555-b33a-9de25e982868"
      },
      "execution_count": null,
      "outputs": [
        {
          "output_type": "stream",
          "name": "stdout",
          "text": [
            "5\n"
          ]
        }
      ]
    },
    {
      "cell_type": "code",
      "source": [
        "#multiplicacion\n",
        "d=a*b\n",
        "print(d)"
      ],
      "metadata": {
        "colab": {
          "base_uri": "https://localhost:8080/"
        },
        "id": "JE4mGPeb8jUl",
        "outputId": "f2846936-bd9a-4564-da63-d8eb3db13980"
      },
      "execution_count": null,
      "outputs": [
        {
          "output_type": "stream",
          "name": "stdout",
          "text": [
            "50\n"
          ]
        }
      ]
    },
    {
      "cell_type": "code",
      "source": [
        "#División\n",
        "e=a/b\n",
        "print(e)"
      ],
      "metadata": {
        "colab": {
          "base_uri": "https://localhost:8080/"
        },
        "id": "PdJbxJQV8pee",
        "outputId": "cf3af77f-8954-481a-8f0d-c58f0c1be8a1"
      },
      "execution_count": null,
      "outputs": [
        {
          "output_type": "stream",
          "name": "stdout",
          "text": [
            "2.0\n"
          ]
        }
      ]
    },
    {
      "cell_type": "code",
      "source": [
        "#División entera\n",
        "print(a//b)"
      ],
      "metadata": {
        "colab": {
          "base_uri": "https://localhost:8080/"
        },
        "id": "-45wAs0xAqDr",
        "outputId": "db1ea330-ed84-4af4-ff61-87789548c333"
      },
      "execution_count": null,
      "outputs": [
        {
          "output_type": "stream",
          "name": "stdout",
          "text": [
            "2\n"
          ]
        }
      ]
    },
    {
      "cell_type": "code",
      "source": [
        "#Modulo, residuo de una division\n",
        "print(a%b)"
      ],
      "metadata": {
        "colab": {
          "base_uri": "https://localhost:8080/"
        },
        "id": "i1JiHJ07BElw",
        "outputId": "4868a4a5-0dd9-47eb-ad79-01ff6af073f0"
      },
      "execution_count": null,
      "outputs": [
        {
          "output_type": "stream",
          "name": "stdout",
          "text": [
            "0\n"
          ]
        }
      ]
    },
    {
      "cell_type": "code",
      "source": [
        "#Exponenciacion\n",
        "print(a**b)"
      ],
      "metadata": {
        "colab": {
          "base_uri": "https://localhost:8080/"
        },
        "id": "Vl4bHmg1BRb8",
        "outputId": "75345dfc-b45b-409d-b58f-146813ddd6f3"
      },
      "execution_count": null,
      "outputs": [
        {
          "output_type": "stream",
          "name": "stdout",
          "text": [
            "100000\n"
          ]
        }
      ]
    },
    {
      "cell_type": "code",
      "source": [
        "#Asignacion Compuesta\n",
        "a+=b\n",
        "print(a)"
      ],
      "metadata": {
        "colab": {
          "base_uri": "https://localhost:8080/"
        },
        "id": "9RCvua9VBhrs",
        "outputId": "6d22672a-457f-4200-8644-cb80a693fdc4"
      },
      "execution_count": null,
      "outputs": [
        {
          "output_type": "stream",
          "name": "stdout",
          "text": [
            "15\n"
          ]
        }
      ]
    },
    {
      "cell_type": "code",
      "source": [
        "a-=b\n",
        "print(a)"
      ],
      "metadata": {
        "colab": {
          "base_uri": "https://localhost:8080/"
        },
        "id": "h14ofJe2B5o7",
        "outputId": "032b3641-29ad-433b-ab68-d0eb88ad2a0d"
      },
      "execution_count": null,
      "outputs": [
        {
          "output_type": "stream",
          "name": "stdout",
          "text": [
            "10\n"
          ]
        }
      ]
    },
    {
      "cell_type": "code",
      "source": [
        "#redondeo\n",
        "var4=3.1410\n",
        "print(round(var4,2))"
      ],
      "metadata": {
        "colab": {
          "base_uri": "https://localhost:8080/"
        },
        "id": "8WoWqPY9CbTL",
        "outputId": "c2ceb1b0-98f0-4155-94d8-d4b872744844"
      },
      "execution_count": null,
      "outputs": [
        {
          "output_type": "stream",
          "name": "stdout",
          "text": [
            "3.14\n"
          ]
        }
      ]
    }
  ]
}