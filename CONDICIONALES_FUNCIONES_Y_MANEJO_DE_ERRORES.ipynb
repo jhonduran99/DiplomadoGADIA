{
  "cells": [
    {
      "cell_type": "markdown",
      "metadata": {
        "id": "view-in-github",
        "colab_type": "text"
      },
      "source": [
        "<a href=\"https://colab.research.google.com/github/jhonduran99/DiplomadoGADIA/blob/main/CONDICIONALES_FUNCIONES_Y_MANEJO_DE_ERRORES.ipynb\" target=\"_parent\"><img src=\"https://colab.research.google.com/assets/colab-badge.svg\" alt=\"Open In Colab\"/></a>"
      ]
    },
    {
      "cell_type": "markdown",
      "source": [
        "# **CONDICIONALES, FUNCIONES Y MANEJO DE ERRORES**\n",
        "\n",
        "DIPLOMADO EN GOBIERNO Y ANALITICA DE DATOS\n",
        "\n",
        "FUNDACIÓN UNIVERSITARIA CAFAM\n",
        "\n",
        "DOCENTE: NICOLAS MOJICA GOMEZ\n",
        "\n",
        "ESTUDIANTE:JHON FELIPE DURAN LOPEZ"
      ],
      "metadata": {
        "id": "QnqC7ds1bPOQ"
      }
    },
    {
      "cell_type": "code",
      "source": [
        "#Las condicionales en Python permiten tomar decisiones en el codigo basadas en ciertas condiciones, son fundamentales para controlar el flujo de ejecucion\n",
        "edad=18\n",
        "#Crear una condicional que identifique si una persona es mayor o menor de edad\n",
        "if edad<18:\n",
        "  print(\"Eres menor de edad\")\n",
        "else:\n",
        "  print(\"Eres mayor de edad\")"
      ],
      "metadata": {
        "colab": {
          "base_uri": "https://localhost:8080/"
        },
        "id": "nZ8SBjJgbYEo",
        "outputId": "71d095b1-dc9f-40b9-cb09-249c813d00bd"
      },
      "execution_count": 1,
      "outputs": [
        {
          "output_type": "stream",
          "name": "stdout",
          "text": [
            "Eres mayor de edad\n"
          ]
        }
      ]
    },
    {
      "cell_type": "code",
      "source": [
        "#Generar un programa que clasifique la edad introducida por el usuario entre mayor y menor de edad\n",
        "edad=int(input(\"Por favor ingresa tu edad\"))\n",
        "if edad<18:\n",
        "  print(\"Eres menor de edad\")\n",
        "else:\n",
        "  print(\"Eres mayor de edad\")"
      ],
      "metadata": {
        "colab": {
          "base_uri": "https://localhost:8080/"
        },
        "id": "1rx_I2hFcqPe",
        "outputId": "07bdb2fe-fde1-4ad6-b39d-86c15e757f48"
      },
      "execution_count": 3,
      "outputs": [
        {
          "output_type": "stream",
          "name": "stdout",
          "text": [
            "Por favor ingresa tu edad 25\n",
            "Eres mayor de edad\n"
          ]
        }
      ]
    },
    {
      "cell_type": "code",
      "source": [
        "#Construya un programa que al ingresar una nota el usuario lo clasifique en :\n",
        "#No aprobado <60, >=90 Clasificación A, >=80 Clasificación B, Otros Clasificación C\n",
        "nota=int(input(\"Ingrese Nota\"))\n",
        "if nota>=60:\n",
        "  if nota>=90:\n",
        "    print(\"Clasificación A\")\n",
        "  elif nota>=80:\n",
        "    print(\"Clasificación B\")\n",
        "  else:\n",
        "    print(\"Clasificación C\")\n",
        "else:\n",
        "  print(\"No aprobado\")"
      ],
      "metadata": {
        "colab": {
          "base_uri": "https://localhost:8080/"
        },
        "id": "qUtDU7widerg",
        "outputId": "ec8ee85a-b0e3-460c-c790-100182191b33"
      },
      "execution_count": 8,
      "outputs": [
        {
          "output_type": "stream",
          "name": "stdout",
          "text": [
            "Ingrese Nota 94\n",
            "Clasificación A\n"
          ]
        }
      ]
    },
    {
      "cell_type": "code",
      "source": [
        "\"\"\"\n",
        "Comparaciones\n",
        "Las condiciones en las sentencias condicionales suelen involucrar operadores de comparación:\n",
        "\n",
        "- == (igual a)\n",
        "- != (diferente de)\n",
        "- > (mayor que)\n",
        "- < (menor que)\n",
        "- >= (mayor o igual que)\n",
        "- <= (menor o igual que)\n",
        "\"\"\"\n"
      ],
      "metadata": {
        "id": "8_z9zgWYhF_n"
      },
      "execution_count": null,
      "outputs": []
    },
    {
      "cell_type": "code",
      "source": [
        "#Escribe un programa que verifique si un número ingresado por el usuario es par o impar.\n",
        "num=int(input(\"Ingrese un numero\"))\n",
        "if num%2==0:\n",
        "  print(\"Numero par\")\n",
        "else:\n",
        "  print(\"Numero impar\")"
      ],
      "metadata": {
        "colab": {
          "base_uri": "https://localhost:8080/"
        },
        "id": "wUk0g7xtiwLA",
        "outputId": "251565d1-2943-4a6f-d33b-f57e8fb194fd"
      },
      "execution_count": 11,
      "outputs": [
        {
          "output_type": "stream",
          "name": "stdout",
          "text": [
            "Ingrese un numero 4\n",
            "Numero par\n"
          ]
        }
      ]
    },
    {
      "cell_type": "code",
      "source": [
        "#Crea un programa que lea dos números y determine cuál es mayor, cuál es menor o si ambos son iguales.\n",
        "num1=int(input(\"->Ingrese el primer número:\"))\n",
        "num2=int(input(\"->Ingrese el segundo número:\"))\n",
        "\n",
        "if num1 != num2:\n",
        "\n",
        "  if num1 > num2:\n",
        "    print(\"//El primer número es mayor que el segundo. Es decir, el segundo número es menor que el primero.\")\n",
        "  else:\n",
        "    print(\"//El segundo número es mayor que el primero. Es decir, el primer número es menor que el segundo.\")\n",
        "\n",
        "else:\n",
        "  print(\"//Los dos números son iguales.\")"
      ],
      "metadata": {
        "colab": {
          "base_uri": "https://localhost:8080/"
        },
        "id": "9EP_xkzqj1qZ",
        "outputId": "c79c0d54-d224-42a8-9acf-67a5276ff3c1"
      },
      "execution_count": 21,
      "outputs": [
        {
          "output_type": "stream",
          "name": "stdout",
          "text": [
            "->Ingrese el primer número:3\n",
            "->Ingrese el segundo número:5\n",
            "//El segundo número es mayor que el primero. Es decir, el primer número es menor que el segundo.\n"
          ]
        }
      ]
    },
    {
      "cell_type": "code",
      "source": [
        "#Escribe un programa que clasifique la edad en diferentes categorías: Niño (0-12 años), Adolescente (13-17 años), Adulto (18-64 años) y Anciano (65 años o más).\n",
        "edad=int(input(\"Ingrese edad\"))\n",
        "if edad<=12:\n",
        "  print(\"Niño\")\n",
        "elif edad<=17:\n",
        "  print(\"Adolecente\")\n",
        "elif edad<=64:\n",
        "  print(\"Adulto\")\n",
        "else:\n",
        "  print(\"Anciano\")\n",
        ""
      ],
      "metadata": {
        "colab": {
          "base_uri": "https://localhost:8080/"
        },
        "id": "teM9vbnOlX6n",
        "outputId": "4c6c47a2-484f-4e56-d89c-5e70bb0ff922"
      },
      "execution_count": 20,
      "outputs": [
        {
          "output_type": "stream",
          "name": "stdout",
          "text": [
            "Ingrese edad70\n",
            "Anciano\n"
          ]
        }
      ]
    },
    {
      "cell_type": "code",
      "source": [],
      "metadata": {
        "id": "BkKMxqFIq4yp"
      },
      "execution_count": null,
      "outputs": []
    }
  ],
  "metadata": {
    "colab": {
      "name": "Te damos la bienvenida a Colaboratory",
      "toc_visible": true,
      "provenance": [],
      "include_colab_link": true
    },
    "kernelspec": {
      "display_name": "Python 3",
      "name": "python3"
    }
  },
  "nbformat": 4,
  "nbformat_minor": 0
}