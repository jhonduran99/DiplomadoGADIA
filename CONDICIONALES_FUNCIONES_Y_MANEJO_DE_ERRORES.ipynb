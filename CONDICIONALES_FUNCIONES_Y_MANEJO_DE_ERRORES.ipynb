{
  "cells": [
    {
      "cell_type": "markdown",
      "metadata": {
        "id": "view-in-github",
        "colab_type": "text"
      },
      "source": [
        "<a href=\"https://colab.research.google.com/github/jhonduran99/DiplomadoGADIA/blob/main/CONDICIONALES_FUNCIONES_Y_MANEJO_DE_ERRORES.ipynb\" target=\"_parent\"><img src=\"https://colab.research.google.com/assets/colab-badge.svg\" alt=\"Open In Colab\"/></a>"
      ]
    },
    {
      "cell_type": "markdown",
      "source": [
        "# **CONDICIONALES, FUNCIONES Y MANEJO DE ERRORES**\n",
        "\n",
        "DIPLOMADO EN GOBIERNO Y ANALITICA DE DATOS\n",
        "\n",
        "FUNDACIÓN UNIVERSITARIA CAFAM\n",
        "\n",
        "DOCENTE: NICOLAS MOJICA GOMEZ\n",
        "\n",
        "ESTUDIANTE:JHON FELIPE DURAN LOPEZ"
      ],
      "metadata": {
        "id": "QnqC7ds1bPOQ"
      }
    },
    {
      "cell_type": "code",
      "source": [
        "#Las condicionales en Python permiten tomar decisiones en el codigo basadas en ciertas condiciones, son fundamentales para controlar el flujo de ejecucion\n",
        "edad=18\n",
        "#Crear una condicional que identifique si una persona es mayor o menor de edad\n",
        "if edad<18:\n",
        "  print(\"Eres menor de edad\")\n",
        "else:\n",
        "  print(\"Eres mayor de edad\")"
      ],
      "metadata": {
        "colab": {
          "base_uri": "https://localhost:8080/"
        },
        "id": "nZ8SBjJgbYEo",
        "outputId": "71d095b1-dc9f-40b9-cb09-249c813d00bd"
      },
      "execution_count": null,
      "outputs": [
        {
          "output_type": "stream",
          "name": "stdout",
          "text": [
            "Eres mayor de edad\n"
          ]
        }
      ]
    },
    {
      "cell_type": "code",
      "source": [
        "#Generar un programa que clasifique la edad introducida por el usuario entre mayor y menor de edad\n",
        "edad=int(input(\"Por favor ingresa tu edad\"))\n",
        "if edad<18:\n",
        "  print(\"Eres menor de edad\")\n",
        "else:\n",
        "  print(\"Eres mayor de edad\")"
      ],
      "metadata": {
        "colab": {
          "base_uri": "https://localhost:8080/"
        },
        "id": "1rx_I2hFcqPe",
        "outputId": "07bdb2fe-fde1-4ad6-b39d-86c15e757f48"
      },
      "execution_count": null,
      "outputs": [
        {
          "output_type": "stream",
          "name": "stdout",
          "text": [
            "Por favor ingresa tu edad 25\n",
            "Eres mayor de edad\n"
          ]
        }
      ]
    },
    {
      "cell_type": "code",
      "source": [
        "#Construya un programa que al ingresar una nota el usuario lo clasifique en :\n",
        "#No aprobado <60, >=90 Clasificación A, >=80 Clasificación B, Otros Clasificación C\n",
        "nota=int(input(\"Ingrese Nota\"))\n",
        "if nota>=60:\n",
        "  if nota>=90:\n",
        "    print(\"Clasificación A\")\n",
        "  elif nota>=80:\n",
        "    print(\"Clasificación B\")\n",
        "  else:\n",
        "    print(\"Clasificación C\")\n",
        "else:\n",
        "  print(\"No aprobado\")"
      ],
      "metadata": {
        "colab": {
          "base_uri": "https://localhost:8080/"
        },
        "id": "qUtDU7widerg",
        "outputId": "ec8ee85a-b0e3-460c-c790-100182191b33"
      },
      "execution_count": null,
      "outputs": [
        {
          "output_type": "stream",
          "name": "stdout",
          "text": [
            "Ingrese Nota 94\n",
            "Clasificación A\n"
          ]
        }
      ]
    },
    {
      "cell_type": "code",
      "source": [
        "\"\"\"\n",
        "Comparaciones\n",
        "Las condiciones en las sentencias condicionales suelen involucrar operadores de comparación:\n",
        "\n",
        "- == (igual a)\n",
        "- != (diferente de)\n",
        "- > (mayor que)\n",
        "- < (menor que)\n",
        "- >= (mayor o igual que)\n",
        "- <= (menor o igual que)\n",
        "\"\"\"\n"
      ],
      "metadata": {
        "id": "8_z9zgWYhF_n"
      },
      "execution_count": null,
      "outputs": []
    },
    {
      "cell_type": "code",
      "source": [
        "#Escribe un programa que verifique si un número ingresado por el usuario es par o impar.\n",
        "num=int(input(\"Ingrese un numero\"))\n",
        "if num%2==0:\n",
        "  print(\"Numero par\")\n",
        "else:\n",
        "  print(\"Numero impar\")"
      ],
      "metadata": {
        "colab": {
          "base_uri": "https://localhost:8080/"
        },
        "id": "wUk0g7xtiwLA",
        "outputId": "251565d1-2943-4a6f-d33b-f57e8fb194fd"
      },
      "execution_count": null,
      "outputs": [
        {
          "output_type": "stream",
          "name": "stdout",
          "text": [
            "Ingrese un numero 4\n",
            "Numero par\n"
          ]
        }
      ]
    },
    {
      "cell_type": "code",
      "source": [
        "#Crea un programa que lea dos números y determine cuál es mayor, cuál es menor o si ambos son iguales.\n",
        "num1=int(input(\"->Ingrese el primer número:\"))\n",
        "num2=int(input(\"->Ingrese el segundo número:\"))\n",
        "\n",
        "if num1 != num2:\n",
        "\n",
        "  if num1 > num2:\n",
        "    print(\"//El primer número es mayor que el segundo. Es decir, el segundo número es menor que el primero.\")\n",
        "  else:\n",
        "    print(\"//El segundo número es mayor que el primero. Es decir, el primer número es menor que el segundo.\")\n",
        "\n",
        "else:\n",
        "  print(\"//Los dos números son iguales.\")"
      ],
      "metadata": {
        "colab": {
          "base_uri": "https://localhost:8080/"
        },
        "id": "9EP_xkzqj1qZ",
        "outputId": "c79c0d54-d224-42a8-9acf-67a5276ff3c1"
      },
      "execution_count": null,
      "outputs": [
        {
          "output_type": "stream",
          "name": "stdout",
          "text": [
            "->Ingrese el primer número:3\n",
            "->Ingrese el segundo número:5\n",
            "//El segundo número es mayor que el primero. Es decir, el primer número es menor que el segundo.\n"
          ]
        }
      ]
    },
    {
      "cell_type": "code",
      "source": [
        "#Escribe un programa que clasifique la edad en diferentes categorías: Niño (0-12 años), Adolescente (13-17 años), Adulto (18-64 años) y Anciano (65 años o más).\n",
        "edad=int(input(\"Ingrese edad: \"))\n",
        "if edad<=12:\n",
        "  print(\"Niño\")\n",
        "elif edad<=17:\n",
        "  print(\"Adolecente\")\n",
        "elif edad<=64:\n",
        "  print(\"Adulto\")\n",
        "else:\n",
        "  print(\"Anciano\")\n"
      ],
      "metadata": {
        "colab": {
          "base_uri": "https://localhost:8080/"
        },
        "id": "teM9vbnOlX6n",
        "outputId": "ccb61943-e3bc-4c8c-9de1-7f11c4d92c07"
      },
      "execution_count": null,
      "outputs": [
        {
          "output_type": "stream",
          "name": "stdout",
          "text": [
            "Ingrese edad: 70\n",
            "Anciano\n"
          ]
        }
      ]
    },
    {
      "cell_type": "markdown",
      "source": [
        "# 1. Funciones\n",
        "\n",
        "Son bloques de codigo en python que se pueden reutilizar para ejecutar una tarea en especifico"
      ],
      "metadata": {
        "id": "1oCeWo5etc7j"
      }
    },
    {
      "cell_type": "code",
      "source": [
        "#Tengo la funcion lineal y=mx+b\n",
        "#Evaluar el valor de x=5 en la funcion y=4x+7\n",
        "def funcion_lineal(x):\n",
        "    variable=x\n",
        "    y=(4*variable)+7\n",
        "    return y\n",
        "print(funcion_lineal(5))\n"
      ],
      "metadata": {
        "colab": {
          "base_uri": "https://localhost:8080/"
        },
        "id": "BkKMxqFIq4yp",
        "outputId": "a8085ee3-181c-425f-9083-b6f234082dab"
      },
      "execution_count": null,
      "outputs": [
        {
          "output_type": "stream",
          "name": "stdout",
          "text": [
            "27\n"
          ]
        }
      ]
    },
    {
      "cell_type": "code",
      "source": [
        "#Tengo la funcion lineal y=mx+b\n",
        "#Evaluar el valor de x=5 en la funcion y=4x+7\n",
        "def funcion_lineal(x):\n",
        "    variable=x\n",
        "    y=(4*variable)+7\n",
        "    z=print(f\"El valor de y es: {y}\")\n",
        "    return z\n",
        "funcion_lineal(5)"
      ],
      "metadata": {
        "colab": {
          "base_uri": "https://localhost:8080/"
        },
        "id": "NizPqGnIvXMG",
        "outputId": "ea82dce8-73ee-44b3-c4cc-195a9edeac5a"
      },
      "execution_count": null,
      "outputs": [
        {
          "output_type": "stream",
          "name": "stdout",
          "text": [
            "El valor de y es: 27\n"
          ]
        }
      ]
    },
    {
      "cell_type": "code",
      "source": [
        "def suma(a,b):\n",
        "  return a+b\n",
        "print(suma(2,2))\n"
      ],
      "metadata": {
        "id": "SqAN72ndxEAd",
        "colab": {
          "base_uri": "https://localhost:8080/"
        },
        "outputId": "aa766141-ffd3-4504-ebd5-4c3507807255"
      },
      "execution_count": null,
      "outputs": [
        {
          "output_type": "stream",
          "name": "stdout",
          "text": [
            "4\n"
          ]
        }
      ]
    },
    {
      "cell_type": "code",
      "source": [
        "#Escribe una función que reciba la edad de una persona como parámetro y determine si la persona es mayor de edad (18 años o más) o menor de edad.\n",
        "def verificar_mayoria_edad(edad):\n",
        "    if edad<0:\n",
        "       print(\"edad no valida\")\n",
        "    elif edad>=18:\n",
        "       print(\"Mayor de edad\")\n",
        "    else:\n",
        "      print(\"menor de edad\")\n",
        "# Ejemplo de uso\n",
        "edad = int(input(\"Ingresa tu edad: \"))\n",
        "verificar_mayoria_edad(edad)"
      ],
      "metadata": {
        "colab": {
          "base_uri": "https://localhost:8080/"
        },
        "id": "4s1uaxU4znTA",
        "outputId": "0330da33-7138-4fcd-a287-0c12df2fd250"
      },
      "execution_count": null,
      "outputs": [
        {
          "output_type": "stream",
          "name": "stdout",
          "text": [
            "Ingresa tu edad: 54\n",
            "Mayor de edad\n"
          ]
        }
      ]
    },
    {
      "cell_type": "code",
      "source": [
        "#Defina una funcion que al ingresar su nombre lo salude\n",
        "def saludo(nombre):\n",
        " print(\"hola\"+nombre)\n",
        " saludar=(input(\"escriba Su nombre: \"))"
      ],
      "metadata": {
        "id": "MFcRo3Y91dnj"
      },
      "execution_count": 7,
      "outputs": []
    },
    {
      "cell_type": "code",
      "source": [
        "# Defina una funcion que al ingresar su nombre lo salude y determine si ud es mayor o menor de edad\n",
        "def saludo():\n",
        "  nombre = input(\"-> Ingrese su nombre: \")\n",
        "  edad = int(input(\"-> Ingrese su edad: \"))\n",
        "  TipoEdad = \"\"\n",
        "\n",
        "  if edad >= 0:\n",
        "\n",
        "    if edad<18:\n",
        "      TipoEdad = \"Menor\"\n",
        "    else:\n",
        "      TipoEdad = \"Mayor\"\n",
        "\n",
        "  else:\n",
        "    print(\"// La edad no puede ser mayor a 0. \")\n",
        "    TipoEdad = \"[Edad ingresada inválida]\"\n",
        "\n",
        "  return f\"Hola, {nombre}! Usted es {TipoEdad} de edad.\"\n",
        "\n",
        "print(saludo())"
      ],
      "metadata": {
        "colab": {
          "base_uri": "https://localhost:8080/"
        },
        "id": "1KxZEq8NPVgY",
        "outputId": "ecbec2b9-0432-467c-b81d-49b5285e146b"
      },
      "execution_count": 9,
      "outputs": [
        {
          "output_type": "stream",
          "name": "stdout",
          "text": [
            "-> Ingrese su nombre: jhon\n",
            "-> Ingrese su edad: 25\n",
            "Hola, jhon! Usted es Mayor de edad.\n"
          ]
        }
      ]
    },
    {
      "cell_type": "code",
      "source": [
        "def saludo_edad(nombre,edad):\n",
        "\n",
        "    if edad >= 0:\n",
        "      if edad<18:\n",
        "        print(f\"Hola {nombre}, eres menor de edad\")\n",
        "      else:\n",
        "        print(f\"Hola {nombre}, eres mayor de edad\")\n",
        "    else:\n",
        "      print(\"La edad ingresada no es valida\")\n",
        "\n",
        "saludo_edad(str(input(\"Ingrese su nombre \")),int(input(\"Ingrese su edad: \")))"
      ],
      "metadata": {
        "colab": {
          "base_uri": "https://localhost:8080/"
        },
        "id": "6vHNRPlMRd5m",
        "outputId": "f2e44b0d-4b9d-45e9-fe91-04dfb29299d2"
      },
      "execution_count": 11,
      "outputs": [
        {
          "output_type": "stream",
          "name": "stdout",
          "text": [
            "Ingrese su nombre jhon\n",
            "Ingrese su edad: 7\n",
            "Hola jhon, eres menor de edad\n"
          ]
        }
      ]
    },
    {
      "cell_type": "code",
      "source": [
        "#Escribe una función que tome una contraseña y la verifique contra una contraseña predeterminada (\"secreta123\"). La función debe devolver si la contraseña es correcta o incorrecta.\n",
        "def verificacion_contraseña(contraseña):\n",
        "    if contraseña==\"secreta123\":\n",
        "        return\"La contraseña es correcta\"\n",
        "    else:\n",
        "        return\"La contraseña es incorrecta\"\n",
        "verificacion_contraseña(input(\"ingrese contraseña: \"))"
      ],
      "metadata": {
        "colab": {
          "base_uri": "https://localhost:8080/",
          "height": 53
        },
        "id": "ACxcWJz2T48t",
        "outputId": "b2e621d5-b147-43fb-99ee-b9c36cbee385"
      },
      "execution_count": 20,
      "outputs": [
        {
          "name": "stdout",
          "output_type": "stream",
          "text": [
            "ingrese contraseña: ajhskjhjdjdka\n"
          ]
        },
        {
          "output_type": "execute_result",
          "data": {
            "text/plain": [
              "'La contraseña es incorrecta'"
            ],
            "application/vnd.google.colaboratory.intrinsic+json": {
              "type": "string"
            }
          },
          "metadata": {},
          "execution_count": 20
        }
      ]
    },
    {
      "cell_type": "code",
      "source": [],
      "metadata": {
        "id": "sR0Rv4SkXRpY"
      },
      "execution_count": null,
      "outputs": []
    }
  ],
  "metadata": {
    "colab": {
      "toc_visible": true,
      "provenance": [],
      "include_colab_link": true
    },
    "kernelspec": {
      "display_name": "Python 3",
      "name": "python3"
    }
  },
  "nbformat": 4,
  "nbformat_minor": 0
}