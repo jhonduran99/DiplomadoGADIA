{
  "nbformat": 4,
  "nbformat_minor": 0,
  "metadata": {
    "colab": {
      "provenance": [],
      "authorship_tag": "ABX9TyOseIhufHgfbRnka91pBSQ4",
      "include_colab_link": true
    },
    "kernelspec": {
      "name": "python3",
      "display_name": "Python 3"
    },
    "language_info": {
      "name": "python"
    }
  },
  "cells": [
    {
      "cell_type": "markdown",
      "metadata": {
        "id": "view-in-github",
        "colab_type": "text"
      },
      "source": [
        "<a href=\"https://colab.research.google.com/github/jhonduran99/DiplomadoGADIA/blob/main/Bucles_y_Ciclos.ipynb\" target=\"_parent\"><img src=\"https://colab.research.google.com/assets/colab-badge.svg\" alt=\"Open In Colab\"/></a>"
      ]
    },
    {
      "cell_type": "markdown",
      "source": [
        "## 1. For\n",
        "Bucle for El bucle for se utiliza para iterar sobre una secuencia (como una lista, tupla, diccionario, conjunto o cadena de caracteres). Se ejecuta una vez por cada elemento en la secuencia."
      ],
      "metadata": {
        "id": "4-PPAkmzbcXP"
      }
    },
    {
      "cell_type": "code",
      "execution_count": 1,
      "metadata": {
        "colab": {
          "base_uri": "https://localhost:8080/"
        },
        "id": "OauFu-LfX9YM",
        "outputId": "d970001c-6f1d-4226-f51c-4df028cc2f38"
      },
      "outputs": [
        {
          "output_type": "stream",
          "name": "stdout",
          "text": [
            "1\n",
            "2\n",
            "3\n",
            "4\n",
            "5\n"
          ]
        }
      ],
      "source": [
        "#Imprimir todos los numeros de una secuencia de datos\n",
        "secuencia=[1,2,3,4,5]\n",
        "for i in secuencia:\n",
        "    print(i)\n"
      ]
    },
    {
      "cell_type": "code",
      "source": [
        "#Clasificar los numeros que son pares y los que no son pares de la lista secuencia\n",
        "for i in secuencia:\n",
        "    if i%2==0:\n",
        "      print(f\"El numero {i} es par\")\n",
        "    else:\n",
        "      print(f\"El numero {i} es impar\")"
      ],
      "metadata": {
        "colab": {
          "base_uri": "https://localhost:8080/"
        },
        "id": "9VqyYRo0dFBr",
        "outputId": "bb37fbda-6bd3-42dc-af79-1837833983b3"
      },
      "execution_count": 4,
      "outputs": [
        {
          "output_type": "stream",
          "name": "stdout",
          "text": [
            "El numero 1 es impar\n",
            "El numero 2 es par\n",
            "El numero 3 es impar\n",
            "El numero 4 es par\n",
            "El numero 5 es impar\n"
          ]
        }
      ]
    },
    {
      "cell_type": "code",
      "source": [
        "# Suma\n",
        "a = 10\n",
        "b = 5\n",
        "print(a + b)  # 15\n",
        "\n",
        "# Resta\n",
        "print(a - b)  # 5\n",
        "\n",
        "# Multiplicación\n",
        "print(a * b)  # 50\n",
        "\n",
        "# División\n",
        "print(a / b)  # 2.0\n",
        "\n",
        "# División entera\n",
        "print(a // b)  # 2\n",
        "\n",
        "# Módulo\n",
        "print(a % b)  # 0\n",
        "\n",
        "# Exponenciación\n",
        "print(a ** b)  # 100000\n",
        "\n",
        "# Asignación compuesta\n",
        "a += b\n",
        "print(a)  # 15\n",
        "\n",
        "# Redondeo\n",
        "c = 3.14159\n",
        "print(round(c, 2))  # 3.14\n",
        "\n",
        "# Valor absoluto\n",
        "d = -10\n",
        "print(abs(d))  # 10\n",
        "\n",
        "# Máximo y mínimo\n",
        "e = [1, 2, 3, 4, 5]\n",
        "print(max(e))  # 5\n",
        "print(min(e))  # 1\n",
        "\n",
        "# Potencia\n",
        "print(pow(2, 3))  # 8"
      ],
      "metadata": {
        "colab": {
          "base_uri": "https://localhost:8080/"
        },
        "id": "NqalDLideluI",
        "outputId": "83be6635-8806-491a-8597-b1a19d2c9692"
      },
      "execution_count": 5,
      "outputs": [
        {
          "output_type": "stream",
          "name": "stdout",
          "text": [
            "15\n",
            "5\n",
            "50\n",
            "2.0\n",
            "2\n",
            "0\n",
            "100000\n",
            "15\n",
            "3.14\n",
            "10\n",
            "5\n",
            "1\n",
            "8\n"
          ]
        }
      ]
    },
    {
      "cell_type": "code",
      "source": [],
      "metadata": {
        "id": "i_3yuWS9fO6e"
      },
      "execution_count": null,
      "outputs": []
    }
  ]
}